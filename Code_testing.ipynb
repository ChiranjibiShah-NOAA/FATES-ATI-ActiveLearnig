{
 "cells": [
  {
   "cell_type": "code",
   "execution_count": 24,
   "id": "1041a9f9",
   "metadata": {},
   "outputs": [],
   "source": [
    "from data import *\n",
    "from utils.augmentations import SSDAugmentation\n",
    "from layers.modules import MultiBoxLoss_GMM\n",
    "from ssd_gmm import build_ssd_gmm\n",
    "from utils.test_voc import *\n",
    "from active_learning_loop import *\n",
    "import os\n",
    "import sys\n",
    "import time\n",
    "import torch\n",
    "import torch.nn.functional as F\n",
    "import torch.nn as nn\n",
    "import torch.optim as optim\n",
    "import torch.backends.cudnn as cudnn\n",
    "import torch.nn.init as init\n",
    "import torch.utils.data as data\n",
    "import numpy as np\n",
    "import argparse\n",
    "import math\n",
    "import random\n",
    "from torch.utils.data.sampler import SubsetRandomSampler, SequentialSampler\n",
    "from subset_sequential_sampler import SubsetSequentialSampler"
   ]
  },
  {
   "cell_type": "code",
   "execution_count": 25,
   "id": "238262dd",
   "metadata": {},
   "outputs": [],
   "source": [
    "cfg = voc300_active"
   ]
  },
  {
   "cell_type": "code",
   "execution_count": 26,
   "id": "9b3667af",
   "metadata": {},
   "outputs": [],
   "source": [
    "num_train_images = cfg['num_total_images']"
   ]
  },
  {
   "cell_type": "code",
   "execution_count": 29,
   "id": "5d58853e",
   "metadata": {},
   "outputs": [
    {
     "name": "stderr",
     "output_type": "stream",
     "text": [
      "C:\\Users\\mn918\\Active_learning\\AL-MDN_n\\layers\\modules\\l2norm.py:20: UserWarning: nn.init.constant is now deprecated in favor of nn.init.constant_.\n",
      "  init.constant(self.weight,self.gamma)\n"
     ]
    }
   ],
   "source": [
    "net = build_ssd_gmm('test', cfg['min_dim'], cfg['num_classes'])"
   ]
  },
  {
   "cell_type": "code",
   "execution_count": 30,
   "id": "6f050a33",
   "metadata": {},
   "outputs": [],
   "source": [
    "net = nn.DataParallel(net)"
   ]
  },
  {
   "cell_type": "code",
   "execution_count": 31,
   "id": "575231af",
   "metadata": {},
   "outputs": [
    {
     "data": {
      "text/plain": [
       "IncompatibleKeys(missing_keys=[], unexpected_keys=[])"
      ]
     },
     "execution_count": 31,
     "metadata": {},
     "output_type": "execute_result"
    }
   ],
   "source": [
    "loop = 'weights/ssd300_AL_VOC_id_1_num_labels_5000_120000.pth'\n",
    "\n",
    "net.load_state_dict(torch.load(loop))"
   ]
  },
  {
   "cell_type": "code",
   "execution_count": 32,
   "id": "a88483d3",
   "metadata": {},
   "outputs": [
    {
     "data": {
      "text/plain": [
       "DataParallel(\n",
       "  (module): SSD_GMM(\n",
       "    (vgg): ModuleList(\n",
       "      (0): Conv2d(3, 64, kernel_size=(3, 3), stride=(1, 1), padding=(1, 1))\n",
       "      (1): ReLU(inplace)\n",
       "      (2): Conv2d(64, 64, kernel_size=(3, 3), stride=(1, 1), padding=(1, 1))\n",
       "      (3): ReLU(inplace)\n",
       "      (4): MaxPool2d(kernel_size=2, stride=2, padding=0, dilation=1, ceil_mode=False)\n",
       "      (5): Conv2d(64, 128, kernel_size=(3, 3), stride=(1, 1), padding=(1, 1))\n",
       "      (6): ReLU(inplace)\n",
       "      (7): Conv2d(128, 128, kernel_size=(3, 3), stride=(1, 1), padding=(1, 1))\n",
       "      (8): ReLU(inplace)\n",
       "      (9): MaxPool2d(kernel_size=2, stride=2, padding=0, dilation=1, ceil_mode=False)\n",
       "      (10): Conv2d(128, 256, kernel_size=(3, 3), stride=(1, 1), padding=(1, 1))\n",
       "      (11): ReLU(inplace)\n",
       "      (12): Conv2d(256, 256, kernel_size=(3, 3), stride=(1, 1), padding=(1, 1))\n",
       "      (13): ReLU(inplace)\n",
       "      (14): Conv2d(256, 256, kernel_size=(3, 3), stride=(1, 1), padding=(1, 1))\n",
       "      (15): ReLU(inplace)\n",
       "      (16): MaxPool2d(kernel_size=2, stride=2, padding=0, dilation=1, ceil_mode=True)\n",
       "      (17): Conv2d(256, 512, kernel_size=(3, 3), stride=(1, 1), padding=(1, 1))\n",
       "      (18): ReLU(inplace)\n",
       "      (19): Conv2d(512, 512, kernel_size=(3, 3), stride=(1, 1), padding=(1, 1))\n",
       "      (20): ReLU(inplace)\n",
       "      (21): Conv2d(512, 512, kernel_size=(3, 3), stride=(1, 1), padding=(1, 1))\n",
       "      (22): ReLU(inplace)\n",
       "      (23): MaxPool2d(kernel_size=2, stride=2, padding=0, dilation=1, ceil_mode=False)\n",
       "      (24): Conv2d(512, 512, kernel_size=(3, 3), stride=(1, 1), padding=(1, 1))\n",
       "      (25): ReLU(inplace)\n",
       "      (26): Conv2d(512, 512, kernel_size=(3, 3), stride=(1, 1), padding=(1, 1))\n",
       "      (27): ReLU(inplace)\n",
       "      (28): Conv2d(512, 512, kernel_size=(3, 3), stride=(1, 1), padding=(1, 1))\n",
       "      (29): ReLU(inplace)\n",
       "      (30): MaxPool2d(kernel_size=3, stride=1, padding=1, dilation=1, ceil_mode=False)\n",
       "      (31): Conv2d(512, 1024, kernel_size=(3, 3), stride=(1, 1), padding=(6, 6), dilation=(6, 6))\n",
       "      (32): ReLU(inplace)\n",
       "      (33): Conv2d(1024, 1024, kernel_size=(1, 1), stride=(1, 1))\n",
       "      (34): ReLU(inplace)\n",
       "    )\n",
       "    (L2Norm): L2Norm()\n",
       "    (extras): ModuleList(\n",
       "      (0): Conv2d(1024, 256, kernel_size=(1, 1), stride=(1, 1))\n",
       "      (1): Conv2d(256, 512, kernel_size=(3, 3), stride=(2, 2), padding=(1, 1))\n",
       "      (2): Conv2d(512, 128, kernel_size=(1, 1), stride=(1, 1))\n",
       "      (3): Conv2d(128, 256, kernel_size=(3, 3), stride=(2, 2), padding=(1, 1))\n",
       "      (4): Conv2d(256, 128, kernel_size=(1, 1), stride=(1, 1))\n",
       "      (5): Conv2d(128, 256, kernel_size=(3, 3), stride=(1, 1))\n",
       "      (6): Conv2d(256, 128, kernel_size=(1, 1), stride=(1, 1))\n",
       "      (7): Conv2d(128, 256, kernel_size=(3, 3), stride=(1, 1))\n",
       "    )\n",
       "    (loc_mu_1): ModuleList(\n",
       "      (0): Conv2d(512, 16, kernel_size=(3, 3), stride=(1, 1), padding=(1, 1))\n",
       "      (1): Conv2d(1024, 24, kernel_size=(3, 3), stride=(1, 1), padding=(1, 1))\n",
       "      (2): Conv2d(512, 24, kernel_size=(3, 3), stride=(1, 1), padding=(1, 1))\n",
       "      (3): Conv2d(256, 24, kernel_size=(3, 3), stride=(1, 1), padding=(1, 1))\n",
       "      (4): Conv2d(256, 16, kernel_size=(3, 3), stride=(1, 1), padding=(1, 1))\n",
       "      (5): Conv2d(256, 16, kernel_size=(3, 3), stride=(1, 1), padding=(1, 1))\n",
       "    )\n",
       "    (loc_var_1): ModuleList(\n",
       "      (0): Conv2d(512, 16, kernel_size=(3, 3), stride=(1, 1), padding=(1, 1))\n",
       "      (1): Conv2d(1024, 24, kernel_size=(3, 3), stride=(1, 1), padding=(1, 1))\n",
       "      (2): Conv2d(512, 24, kernel_size=(3, 3), stride=(1, 1), padding=(1, 1))\n",
       "      (3): Conv2d(256, 24, kernel_size=(3, 3), stride=(1, 1), padding=(1, 1))\n",
       "      (4): Conv2d(256, 16, kernel_size=(3, 3), stride=(1, 1), padding=(1, 1))\n",
       "      (5): Conv2d(256, 16, kernel_size=(3, 3), stride=(1, 1), padding=(1, 1))\n",
       "    )\n",
       "    (loc_pi_1): ModuleList(\n",
       "      (0): Conv2d(512, 16, kernel_size=(3, 3), stride=(1, 1), padding=(1, 1))\n",
       "      (1): Conv2d(1024, 24, kernel_size=(3, 3), stride=(1, 1), padding=(1, 1))\n",
       "      (2): Conv2d(512, 24, kernel_size=(3, 3), stride=(1, 1), padding=(1, 1))\n",
       "      (3): Conv2d(256, 24, kernel_size=(3, 3), stride=(1, 1), padding=(1, 1))\n",
       "      (4): Conv2d(256, 16, kernel_size=(3, 3), stride=(1, 1), padding=(1, 1))\n",
       "      (5): Conv2d(256, 16, kernel_size=(3, 3), stride=(1, 1), padding=(1, 1))\n",
       "    )\n",
       "    (loc_mu_2): ModuleList(\n",
       "      (0): Conv2d(512, 16, kernel_size=(3, 3), stride=(1, 1), padding=(1, 1))\n",
       "      (1): Conv2d(1024, 24, kernel_size=(3, 3), stride=(1, 1), padding=(1, 1))\n",
       "      (2): Conv2d(512, 24, kernel_size=(3, 3), stride=(1, 1), padding=(1, 1))\n",
       "      (3): Conv2d(256, 24, kernel_size=(3, 3), stride=(1, 1), padding=(1, 1))\n",
       "      (4): Conv2d(256, 16, kernel_size=(3, 3), stride=(1, 1), padding=(1, 1))\n",
       "      (5): Conv2d(256, 16, kernel_size=(3, 3), stride=(1, 1), padding=(1, 1))\n",
       "    )\n",
       "    (loc_var_2): ModuleList(\n",
       "      (0): Conv2d(512, 16, kernel_size=(3, 3), stride=(1, 1), padding=(1, 1))\n",
       "      (1): Conv2d(1024, 24, kernel_size=(3, 3), stride=(1, 1), padding=(1, 1))\n",
       "      (2): Conv2d(512, 24, kernel_size=(3, 3), stride=(1, 1), padding=(1, 1))\n",
       "      (3): Conv2d(256, 24, kernel_size=(3, 3), stride=(1, 1), padding=(1, 1))\n",
       "      (4): Conv2d(256, 16, kernel_size=(3, 3), stride=(1, 1), padding=(1, 1))\n",
       "      (5): Conv2d(256, 16, kernel_size=(3, 3), stride=(1, 1), padding=(1, 1))\n",
       "    )\n",
       "    (loc_pi_2): ModuleList(\n",
       "      (0): Conv2d(512, 16, kernel_size=(3, 3), stride=(1, 1), padding=(1, 1))\n",
       "      (1): Conv2d(1024, 24, kernel_size=(3, 3), stride=(1, 1), padding=(1, 1))\n",
       "      (2): Conv2d(512, 24, kernel_size=(3, 3), stride=(1, 1), padding=(1, 1))\n",
       "      (3): Conv2d(256, 24, kernel_size=(3, 3), stride=(1, 1), padding=(1, 1))\n",
       "      (4): Conv2d(256, 16, kernel_size=(3, 3), stride=(1, 1), padding=(1, 1))\n",
       "      (5): Conv2d(256, 16, kernel_size=(3, 3), stride=(1, 1), padding=(1, 1))\n",
       "    )\n",
       "    (loc_mu_3): ModuleList(\n",
       "      (0): Conv2d(512, 16, kernel_size=(3, 3), stride=(1, 1), padding=(1, 1))\n",
       "      (1): Conv2d(1024, 24, kernel_size=(3, 3), stride=(1, 1), padding=(1, 1))\n",
       "      (2): Conv2d(512, 24, kernel_size=(3, 3), stride=(1, 1), padding=(1, 1))\n",
       "      (3): Conv2d(256, 24, kernel_size=(3, 3), stride=(1, 1), padding=(1, 1))\n",
       "      (4): Conv2d(256, 16, kernel_size=(3, 3), stride=(1, 1), padding=(1, 1))\n",
       "      (5): Conv2d(256, 16, kernel_size=(3, 3), stride=(1, 1), padding=(1, 1))\n",
       "    )\n",
       "    (loc_var_3): ModuleList(\n",
       "      (0): Conv2d(512, 16, kernel_size=(3, 3), stride=(1, 1), padding=(1, 1))\n",
       "      (1): Conv2d(1024, 24, kernel_size=(3, 3), stride=(1, 1), padding=(1, 1))\n",
       "      (2): Conv2d(512, 24, kernel_size=(3, 3), stride=(1, 1), padding=(1, 1))\n",
       "      (3): Conv2d(256, 24, kernel_size=(3, 3), stride=(1, 1), padding=(1, 1))\n",
       "      (4): Conv2d(256, 16, kernel_size=(3, 3), stride=(1, 1), padding=(1, 1))\n",
       "      (5): Conv2d(256, 16, kernel_size=(3, 3), stride=(1, 1), padding=(1, 1))\n",
       "    )\n",
       "    (loc_pi_3): ModuleList(\n",
       "      (0): Conv2d(512, 16, kernel_size=(3, 3), stride=(1, 1), padding=(1, 1))\n",
       "      (1): Conv2d(1024, 24, kernel_size=(3, 3), stride=(1, 1), padding=(1, 1))\n",
       "      (2): Conv2d(512, 24, kernel_size=(3, 3), stride=(1, 1), padding=(1, 1))\n",
       "      (3): Conv2d(256, 24, kernel_size=(3, 3), stride=(1, 1), padding=(1, 1))\n",
       "      (4): Conv2d(256, 16, kernel_size=(3, 3), stride=(1, 1), padding=(1, 1))\n",
       "      (5): Conv2d(256, 16, kernel_size=(3, 3), stride=(1, 1), padding=(1, 1))\n",
       "    )\n",
       "    (loc_mu_4): ModuleList(\n",
       "      (0): Conv2d(512, 16, kernel_size=(3, 3), stride=(1, 1), padding=(1, 1))\n",
       "      (1): Conv2d(1024, 24, kernel_size=(3, 3), stride=(1, 1), padding=(1, 1))\n",
       "      (2): Conv2d(512, 24, kernel_size=(3, 3), stride=(1, 1), padding=(1, 1))\n",
       "      (3): Conv2d(256, 24, kernel_size=(3, 3), stride=(1, 1), padding=(1, 1))\n",
       "      (4): Conv2d(256, 16, kernel_size=(3, 3), stride=(1, 1), padding=(1, 1))\n",
       "      (5): Conv2d(256, 16, kernel_size=(3, 3), stride=(1, 1), padding=(1, 1))\n",
       "    )\n",
       "    (loc_var_4): ModuleList(\n",
       "      (0): Conv2d(512, 16, kernel_size=(3, 3), stride=(1, 1), padding=(1, 1))\n",
       "      (1): Conv2d(1024, 24, kernel_size=(3, 3), stride=(1, 1), padding=(1, 1))\n",
       "      (2): Conv2d(512, 24, kernel_size=(3, 3), stride=(1, 1), padding=(1, 1))\n",
       "      (3): Conv2d(256, 24, kernel_size=(3, 3), stride=(1, 1), padding=(1, 1))\n",
       "      (4): Conv2d(256, 16, kernel_size=(3, 3), stride=(1, 1), padding=(1, 1))\n",
       "      (5): Conv2d(256, 16, kernel_size=(3, 3), stride=(1, 1), padding=(1, 1))\n",
       "    )\n",
       "    (loc_pi_4): ModuleList(\n",
       "      (0): Conv2d(512, 16, kernel_size=(3, 3), stride=(1, 1), padding=(1, 1))\n",
       "      (1): Conv2d(1024, 24, kernel_size=(3, 3), stride=(1, 1), padding=(1, 1))\n",
       "      (2): Conv2d(512, 24, kernel_size=(3, 3), stride=(1, 1), padding=(1, 1))\n",
       "      (3): Conv2d(256, 24, kernel_size=(3, 3), stride=(1, 1), padding=(1, 1))\n",
       "      (4): Conv2d(256, 16, kernel_size=(3, 3), stride=(1, 1), padding=(1, 1))\n",
       "      (5): Conv2d(256, 16, kernel_size=(3, 3), stride=(1, 1), padding=(1, 1))\n",
       "    )\n",
       "    (conf_mu_1): ModuleList(\n",
       "      (0): Conv2d(512, 524, kernel_size=(3, 3), stride=(1, 1), padding=(1, 1))\n",
       "      (1): Conv2d(1024, 786, kernel_size=(3, 3), stride=(1, 1), padding=(1, 1))\n",
       "      (2): Conv2d(512, 786, kernel_size=(3, 3), stride=(1, 1), padding=(1, 1))\n",
       "      (3): Conv2d(256, 786, kernel_size=(3, 3), stride=(1, 1), padding=(1, 1))\n",
       "      (4): Conv2d(256, 524, kernel_size=(3, 3), stride=(1, 1), padding=(1, 1))\n",
       "      (5): Conv2d(256, 524, kernel_size=(3, 3), stride=(1, 1), padding=(1, 1))\n",
       "    )\n",
       "    (conf_var_1): ModuleList(\n",
       "      (0): Conv2d(512, 524, kernel_size=(3, 3), stride=(1, 1), padding=(1, 1))\n",
       "      (1): Conv2d(1024, 786, kernel_size=(3, 3), stride=(1, 1), padding=(1, 1))\n",
       "      (2): Conv2d(512, 786, kernel_size=(3, 3), stride=(1, 1), padding=(1, 1))\n",
       "      (3): Conv2d(256, 786, kernel_size=(3, 3), stride=(1, 1), padding=(1, 1))\n",
       "      (4): Conv2d(256, 524, kernel_size=(3, 3), stride=(1, 1), padding=(1, 1))\n",
       "      (5): Conv2d(256, 524, kernel_size=(3, 3), stride=(1, 1), padding=(1, 1))\n",
       "    )\n",
       "    (conf_pi_1): ModuleList(\n",
       "      (0): Conv2d(512, 4, kernel_size=(3, 3), stride=(1, 1), padding=(1, 1))\n",
       "      (1): Conv2d(1024, 6, kernel_size=(3, 3), stride=(1, 1), padding=(1, 1))\n",
       "      (2): Conv2d(512, 6, kernel_size=(3, 3), stride=(1, 1), padding=(1, 1))\n",
       "      (3): Conv2d(256, 6, kernel_size=(3, 3), stride=(1, 1), padding=(1, 1))\n",
       "      (4): Conv2d(256, 4, kernel_size=(3, 3), stride=(1, 1), padding=(1, 1))\n",
       "      (5): Conv2d(256, 4, kernel_size=(3, 3), stride=(1, 1), padding=(1, 1))\n",
       "    )\n",
       "    (conf_mu_2): ModuleList(\n",
       "      (0): Conv2d(512, 524, kernel_size=(3, 3), stride=(1, 1), padding=(1, 1))\n",
       "      (1): Conv2d(1024, 786, kernel_size=(3, 3), stride=(1, 1), padding=(1, 1))\n",
       "      (2): Conv2d(512, 786, kernel_size=(3, 3), stride=(1, 1), padding=(1, 1))\n",
       "      (3): Conv2d(256, 786, kernel_size=(3, 3), stride=(1, 1), padding=(1, 1))\n",
       "      (4): Conv2d(256, 524, kernel_size=(3, 3), stride=(1, 1), padding=(1, 1))\n",
       "      (5): Conv2d(256, 524, kernel_size=(3, 3), stride=(1, 1), padding=(1, 1))\n",
       "    )\n",
       "    (conf_var_2): ModuleList(\n",
       "      (0): Conv2d(512, 524, kernel_size=(3, 3), stride=(1, 1), padding=(1, 1))\n",
       "      (1): Conv2d(1024, 786, kernel_size=(3, 3), stride=(1, 1), padding=(1, 1))\n",
       "      (2): Conv2d(512, 786, kernel_size=(3, 3), stride=(1, 1), padding=(1, 1))\n",
       "      (3): Conv2d(256, 786, kernel_size=(3, 3), stride=(1, 1), padding=(1, 1))\n",
       "      (4): Conv2d(256, 524, kernel_size=(3, 3), stride=(1, 1), padding=(1, 1))\n",
       "      (5): Conv2d(256, 524, kernel_size=(3, 3), stride=(1, 1), padding=(1, 1))\n",
       "    )\n",
       "    (conf_pi_2): ModuleList(\n",
       "      (0): Conv2d(512, 4, kernel_size=(3, 3), stride=(1, 1), padding=(1, 1))\n",
       "      (1): Conv2d(1024, 6, kernel_size=(3, 3), stride=(1, 1), padding=(1, 1))\n",
       "      (2): Conv2d(512, 6, kernel_size=(3, 3), stride=(1, 1), padding=(1, 1))\n",
       "      (3): Conv2d(256, 6, kernel_size=(3, 3), stride=(1, 1), padding=(1, 1))\n",
       "      (4): Conv2d(256, 4, kernel_size=(3, 3), stride=(1, 1), padding=(1, 1))\n",
       "      (5): Conv2d(256, 4, kernel_size=(3, 3), stride=(1, 1), padding=(1, 1))\n",
       "    )\n",
       "    (conf_mu_3): ModuleList(\n",
       "      (0): Conv2d(512, 524, kernel_size=(3, 3), stride=(1, 1), padding=(1, 1))\n",
       "      (1): Conv2d(1024, 786, kernel_size=(3, 3), stride=(1, 1), padding=(1, 1))\n",
       "      (2): Conv2d(512, 786, kernel_size=(3, 3), stride=(1, 1), padding=(1, 1))\n",
       "      (3): Conv2d(256, 786, kernel_size=(3, 3), stride=(1, 1), padding=(1, 1))\n",
       "      (4): Conv2d(256, 524, kernel_size=(3, 3), stride=(1, 1), padding=(1, 1))\n",
       "      (5): Conv2d(256, 524, kernel_size=(3, 3), stride=(1, 1), padding=(1, 1))\n",
       "    )\n",
       "    (conf_var_3): ModuleList(\n",
       "      (0): Conv2d(512, 524, kernel_size=(3, 3), stride=(1, 1), padding=(1, 1))\n",
       "      (1): Conv2d(1024, 786, kernel_size=(3, 3), stride=(1, 1), padding=(1, 1))\n",
       "      (2): Conv2d(512, 786, kernel_size=(3, 3), stride=(1, 1), padding=(1, 1))\n",
       "      (3): Conv2d(256, 786, kernel_size=(3, 3), stride=(1, 1), padding=(1, 1))\n",
       "      (4): Conv2d(256, 524, kernel_size=(3, 3), stride=(1, 1), padding=(1, 1))\n",
       "      (5): Conv2d(256, 524, kernel_size=(3, 3), stride=(1, 1), padding=(1, 1))\n",
       "    )\n",
       "    (conf_pi_3): ModuleList(\n",
       "      (0): Conv2d(512, 4, kernel_size=(3, 3), stride=(1, 1), padding=(1, 1))\n",
       "      (1): Conv2d(1024, 6, kernel_size=(3, 3), stride=(1, 1), padding=(1, 1))\n",
       "      (2): Conv2d(512, 6, kernel_size=(3, 3), stride=(1, 1), padding=(1, 1))\n",
       "      (3): Conv2d(256, 6, kernel_size=(3, 3), stride=(1, 1), padding=(1, 1))\n",
       "      (4): Conv2d(256, 4, kernel_size=(3, 3), stride=(1, 1), padding=(1, 1))\n",
       "      (5): Conv2d(256, 4, kernel_size=(3, 3), stride=(1, 1), padding=(1, 1))\n",
       "    )\n",
       "    (conf_mu_4): ModuleList(\n",
       "      (0): Conv2d(512, 524, kernel_size=(3, 3), stride=(1, 1), padding=(1, 1))\n",
       "      (1): Conv2d(1024, 786, kernel_size=(3, 3), stride=(1, 1), padding=(1, 1))\n",
       "      (2): Conv2d(512, 786, kernel_size=(3, 3), stride=(1, 1), padding=(1, 1))\n",
       "      (3): Conv2d(256, 786, kernel_size=(3, 3), stride=(1, 1), padding=(1, 1))\n",
       "      (4): Conv2d(256, 524, kernel_size=(3, 3), stride=(1, 1), padding=(1, 1))\n",
       "      (5): Conv2d(256, 524, kernel_size=(3, 3), stride=(1, 1), padding=(1, 1))\n",
       "    )\n",
       "    (conf_var_4): ModuleList(\n",
       "      (0): Conv2d(512, 524, kernel_size=(3, 3), stride=(1, 1), padding=(1, 1))\n",
       "      (1): Conv2d(1024, 786, kernel_size=(3, 3), stride=(1, 1), padding=(1, 1))\n",
       "      (2): Conv2d(512, 786, kernel_size=(3, 3), stride=(1, 1), padding=(1, 1))\n",
       "      (3): Conv2d(256, 786, kernel_size=(3, 3), stride=(1, 1), padding=(1, 1))\n",
       "      (4): Conv2d(256, 524, kernel_size=(3, 3), stride=(1, 1), padding=(1, 1))\n",
       "      (5): Conv2d(256, 524, kernel_size=(3, 3), stride=(1, 1), padding=(1, 1))\n",
       "    )\n",
       "    (conf_pi_4): ModuleList(\n",
       "      (0): Conv2d(512, 4, kernel_size=(3, 3), stride=(1, 1), padding=(1, 1))\n",
       "      (1): Conv2d(1024, 6, kernel_size=(3, 3), stride=(1, 1), padding=(1, 1))\n",
       "      (2): Conv2d(512, 6, kernel_size=(3, 3), stride=(1, 1), padding=(1, 1))\n",
       "      (3): Conv2d(256, 6, kernel_size=(3, 3), stride=(1, 1), padding=(1, 1))\n",
       "      (4): Conv2d(256, 4, kernel_size=(3, 3), stride=(1, 1), padding=(1, 1))\n",
       "      (5): Conv2d(256, 4, kernel_size=(3, 3), stride=(1, 1), padding=(1, 1))\n",
       "    )\n",
       "    (softmax): Softmax()\n",
       "  )\n",
       ")"
      ]
     },
     "execution_count": 32,
     "metadata": {},
     "output_type": "execute_result"
    }
   ],
   "source": [
    "net.eval()"
   ]
  },
  {
   "cell_type": "code",
   "execution_count": 38,
   "id": "ff6dbec5",
   "metadata": {},
   "outputs": [],
   "source": [
    "import os.path as osp\n",
    "VOC_ROOT = osp.join(HOME, \"data/VOCdevkit/\")\n",
    "test_dataset = VOCDetection(VOC_ROOT, [('2007', 'test')], BaseTransform(300, MEANS), VOCAnnotationTransform())"
   ]
  },
  {
   "cell_type": "code",
   "execution_count": 39,
   "id": "ad2186c7",
   "metadata": {},
   "outputs": [
    {
     "data": {
      "text/plain": [
       "<data.voc0712.VOCDetection at 0x129e1d47470>"
      ]
     },
     "execution_count": 39,
     "metadata": {},
     "output_type": "execute_result"
    }
   ],
   "source": [
    "test_dataset"
   ]
  },
  {
   "cell_type": "code",
   "execution_count": 47,
   "id": "defa787f",
   "metadata": {},
   "outputs": [
    {
     "data": {
      "text/plain": [
       "2832"
      ]
     },
     "execution_count": 47,
     "metadata": {},
     "output_type": "execute_result"
    }
   ],
   "source": [
    "num_images = len(test_dataset)\n",
    "num_images"
   ]
  },
  {
   "cell_type": "code",
   "execution_count": 48,
   "id": "2bb2be0f",
   "metadata": {},
   "outputs": [],
   "source": [
    "all_boxes = [[[] for _ in range(num_images)]\n",
    "                 for _ in range(len(labelmap)+1)]"
   ]
  },
  {
   "cell_type": "code",
   "execution_count": 50,
   "id": "60bb7bd4",
   "metadata": {},
   "outputs": [],
   "source": [
    "im, gt, h, w = test_dataset.pull_item(1)\n"
   ]
  },
  {
   "cell_type": "code",
   "execution_count": 58,
   "id": "98e89737",
   "metadata": {},
   "outputs": [],
   "source": [
    "x = Variable(im.unsqueeze(0))"
   ]
  },
  {
   "cell_type": "code",
   "execution_count": 60,
   "id": "da75d210",
   "metadata": {},
   "outputs": [
    {
     "data": {
      "text/plain": [
       "torch.Size([1, 3, 300, 300])"
      ]
     },
     "execution_count": 60,
     "metadata": {},
     "output_type": "execute_result"
    }
   ],
   "source": [
    "x.shape"
   ]
  },
  {
   "cell_type": "code",
   "execution_count": 66,
   "id": "1001c997",
   "metadata": {
    "scrolled": true
   },
   "outputs": [],
   "source": [
    "from utils.test_voc import *\n"
   ]
  },
  {
   "cell_type": "code",
   "execution_count": 68,
   "id": "063ca9a3",
   "metadata": {},
   "outputs": [
    {
     "ename": "NameError",
     "evalue": "name 'args' is not defined",
     "output_type": "error",
     "traceback": [
      "\u001b[1;31m---------------------------------------------------------------------------\u001b[0m",
      "\u001b[1;31mNameError\u001b[0m                                 Traceback (most recent call last)",
      "\u001b[1;32m<ipython-input-68-c49f25390fbd>\u001b[0m in \u001b[0;36m<module>\u001b[1;34m\u001b[0m\n\u001b[1;32m----> 1\u001b[1;33m mean_ap = test_net(args.eval_save_folder, net, args.cuda,\n\u001b[0m\u001b[0;32m      2\u001b[0m                                    \u001b[0mtest_dataset\u001b[0m\u001b[1;33m,\u001b[0m \u001b[0mBaseTransform\u001b[0m\u001b[1;33m(\u001b[0m\u001b[1;36m300\u001b[0m\u001b[1;33m,\u001b[0m \u001b[0mMEANS\u001b[0m\u001b[1;33m)\u001b[0m\u001b[1;33m,\u001b[0m\u001b[1;33m\u001b[0m\u001b[1;33m\u001b[0m\u001b[0m\n\u001b[0;32m      3\u001b[0m                                    args.top_k, 300, thresh=args.confidence_threshold)\n",
      "\u001b[1;31mNameError\u001b[0m: name 'args' is not defined"
     ]
    }
   ],
   "source": [
    "mean_ap = test_net(args.eval_save_folder, net, args.cuda,\n",
    "                                   test_dataset, BaseTransform(300, MEANS),\n",
    "                                   args.top_k, 300, thresh=args.confidence_threshold)"
   ]
  },
  {
   "cell_type": "code",
   "execution_count": 72,
   "id": "3a7dc861",
   "metadata": {},
   "outputs": [
    {
     "ename": "TypeError",
     "evalue": "'float' object is not subscriptable",
     "output_type": "error",
     "traceback": [
      "\u001b[1;31m---------------------------------------------------------------------------\u001b[0m",
      "\u001b[1;31mTypeError\u001b[0m                                 Traceback (most recent call last)",
      "\u001b[1;32m<ipython-input-72-97889f52d2ca>\u001b[0m in \u001b[0;36m<module>\u001b[1;34m\u001b[0m\n\u001b[0;32m      6\u001b[0m         \u001b[0mp\u001b[0m \u001b[1;33m=\u001b[0m \u001b[1;36m0\u001b[0m\u001b[1;33m\u001b[0m\u001b[1;33m\u001b[0m\u001b[0m\n\u001b[0;32m      7\u001b[0m     \u001b[1;32melse\u001b[0m\u001b[1;33m:\u001b[0m\u001b[1;33m\u001b[0m\u001b[1;33m\u001b[0m\u001b[0m\n\u001b[1;32m----> 8\u001b[1;33m         \u001b[0mp\u001b[0m \u001b[1;33m=\u001b[0m \u001b[0mnp\u001b[0m\u001b[1;33m.\u001b[0m\u001b[0mmax\u001b[0m\u001b[1;33m(\u001b[0m\u001b[0mprec\u001b[0m\u001b[1;33m[\u001b[0m\u001b[0mrec\u001b[0m \u001b[1;33m>=\u001b[0m \u001b[0mt\u001b[0m\u001b[1;33m]\u001b[0m\u001b[1;33m)\u001b[0m\u001b[1;33m\u001b[0m\u001b[1;33m\u001b[0m\u001b[0m\n\u001b[0m\u001b[0;32m      9\u001b[0m     \u001b[0map\u001b[0m \u001b[1;33m=\u001b[0m \u001b[0map\u001b[0m \u001b[1;33m+\u001b[0m \u001b[0mp\u001b[0m \u001b[1;33m/\u001b[0m \u001b[1;36m11.\u001b[0m\u001b[1;33m\u001b[0m\u001b[1;33m\u001b[0m\u001b[0m\n",
      "\u001b[1;31mTypeError\u001b[0m: 'float' object is not subscriptable"
     ]
    }
   ],
   "source": [
    "rec = 1.5   \n",
    "prec = 0.5\n",
    "ap = 0.\n",
    "for t in np.arange(0., 1.1, 0.1):\n",
    "    if np.sum(rec >= t) == 0:\n",
    "        p = 0\n",
    "    else:\n",
    "        p = np.max(prec[rec >= t])\n",
    "    ap = ap + p / 11."
   ]
  },
  {
   "cell_type": "code",
   "execution_count": 73,
   "id": "cc5b72e4",
   "metadata": {},
   "outputs": [
    {
     "data": {
      "text/plain": [
       "<enumerate at 0x12a113eaea0>"
      ]
     },
     "execution_count": 73,
     "metadata": {},
     "output_type": "execute_result"
    }
   ],
   "source": [
    "enumerate(labelmap)"
   ]
  },
  {
   "cell_type": "code",
   "execution_count": 74,
   "id": "c98f14fc",
   "metadata": {},
   "outputs": [
    {
     "name": "stdout",
     "output_type": "stream",
     "text": [
      "acanthuruscoeruleus\n",
      "acanthurus\n",
      "alectisciliaris\n",
      "anisotremusvirginicus\n",
      "anomura\n",
      "anthiinae\n",
      "archosargusprobatocephalus\n",
      "balistescapriscus\n",
      "balistesvetula\n",
      "bodianuspulchellus\n",
      "bodianusrufus\n",
      "calamusbajonado\n",
      "calamusleucosteus\n",
      "calamusnodosus\n",
      "calamusproridens\n",
      "calamus\n",
      "canthidermissufflamen\n",
      "canthigasterrostratus\n",
      "caranxbartholomaei\n",
      "caranxcrysos\n",
      "caranxruber\n",
      "carcharhinusfalciformis\n",
      "carcharhinusperezi\n",
      "carcharhinusplumbeus\n",
      "caulolatiluschrysops\n",
      "caulolatilus cyanops\n",
      "caulolatiluscyanops\n",
      "centropristisocyura\n",
      "cephalopholiscruentata\n",
      "cephalopholisfulva\n",
      "chaetodonaculeatus\n",
      "chaetodoncapistratus\n",
      "chaetodonocellatus\n",
      "chaetodonsedentarius\n",
      "chaetodon\n",
      "chromisenchrysurus\n",
      "chromisinsolatus\n",
      "chromis\n",
      "dermatolepisinermis\n",
      "diodontidae\n",
      "diplectrumformosum\n",
      "diplectrum\n",
      "epinephelusadscensionis\n",
      "epinephelusflavolimbatus\n",
      "epinephelusmorio\n",
      "epinephelusnigritus\n",
      "epinephelus\n",
      "equetuslanceolatus\n",
      "equetusumbrosus\n",
      "gonioplectrushispanus\n",
      "gymnothoraxmoringa\n",
      "gymnothoraxsaxicola\n",
      "haemulonaurolineatum\n",
      "haemulonflavolineatum\n",
      "haemulonmacrostomum\n",
      "haemulonmelanurum\n",
      "haemulonplumieri\n",
      "halichoeresbathyphilus\n",
      "halichoeresbivittatus\n",
      "halichoeresgarnoti\n",
      "halichoeres\n",
      "holacanthusbermudensis\n",
      "holacanthus\n",
      "holanthiusmartinicensis\n",
      "holocentrus\n",
      "hypoplectrusgemma\n",
      "hypoplectrus\n",
      "hypoplectrusunicolor\n",
      "ioglossus\n",
      "kyphosus\n",
      "lachnolaimusmaximus\n",
      "lactophrystrigonus\n",
      "liopropomaeukrines\n",
      "lutjanusanalis\n",
      "lutjanusapodus\n",
      "lutjanusbuccanela\n",
      "lutjanuscampechanus\n",
      "lutjanusgriseus\n",
      "lutjanussynagris\n",
      "lutjanus\n",
      "lutjanusvivanus\n",
      "malacanthusplumieri\n",
      "mulloidichthysmartinicus\n",
      "muraenaretifera\n",
      "mycteropercabonaci\n",
      "mycteropercainterstialis\n",
      "mycteropercainterstitialis\n",
      "mycteropercamicrolepis\n",
      "mycteropercaphenax\n",
      "mycteroperca\n",
      "ocyuruschrysurus\n",
      "ophichthuspuncticeps\n",
      "opistognathusaurifrons\n",
      "pagruspagrus\n",
      "paranthiasfurcifer\n",
      "pomacanthusarcuatus\n",
      "pomacanthusparu\n",
      "pomacanthus\n",
      "pomacentridae\n",
      "pomacentruspartitus\n",
      "pomacentrus\n",
      "priacanthusarenatus\n",
      "pristigenysalta\n",
      "pristipomoidesaquilonaris\n",
      "pseudupeneusmaculatus\n",
      "pterois\n",
      "rachycentroncanadum\n",
      "rhomboplitesaurorubens\n",
      "rypticusmaculatus\n",
      "scaridae\n",
      "scarusvetula\n",
      "serioladumerili\n",
      "seriolafasciata\n",
      "seriolarivoliana\n",
      "seriola\n",
      "seriolazonata\n",
      "serranusannularis\n",
      "serranusphoebe\n",
      "serranus\n",
      "sparidae\n",
      "sparisomaaurofrenatum\n",
      "sparisomaviride\n",
      "sphyraenabarracuda\n",
      "sphyrnalewini\n",
      "stenotomuscaprinus\n",
      "syacium\n",
      "synodontidae\n",
      "thalassomabifasciatum\n",
      "upeneusparvus\n",
      "xanthichthysringens\n"
     ]
    }
   ],
   "source": [
    "for i, cls in enumerate(labelmap):\n",
    "    print(cls)"
   ]
  },
  {
   "cell_type": "code",
   "execution_count": 75,
   "id": "ac2434cc",
   "metadata": {},
   "outputs": [],
   "source": [
    " conf = list()"
   ]
  },
  {
   "cell_type": "code",
   "execution_count": 76,
   "id": "8b7aa670",
   "metadata": {},
   "outputs": [
    {
     "data": {
      "text/plain": [
       "[]"
      ]
     },
     "execution_count": 76,
     "metadata": {},
     "output_type": "execute_result"
    }
   ],
   "source": [
    "conf"
   ]
  },
  {
   "cell_type": "code",
   "execution_count": null,
   "id": "631ff652",
   "metadata": {},
   "outputs": [],
   "source": []
  }
 ],
 "metadata": {
  "kernelspec": {
   "display_name": "Python 3",
   "language": "python",
   "name": "python3"
  },
  "language_info": {
   "codemirror_mode": {
    "name": "ipython",
    "version": 3
   },
   "file_extension": ".py",
   "mimetype": "text/x-python",
   "name": "python",
   "nbconvert_exporter": "python",
   "pygments_lexer": "ipython3",
   "version": "3.6.13"
  }
 },
 "nbformat": 4,
 "nbformat_minor": 5
}
